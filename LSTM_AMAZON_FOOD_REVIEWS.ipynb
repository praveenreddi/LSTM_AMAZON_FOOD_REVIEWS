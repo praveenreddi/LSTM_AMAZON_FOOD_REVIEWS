{
  "nbformat": 4,
  "nbformat_minor": 0,
  "metadata": {
    "colab": {
      "name": "LSTM_AMAZON FOOD REVIEWS.ipynb",
      "version": "0.3.2",
      "provenance": [],
      "collapsed_sections": [],
      "include_colab_link": true
    },
    "kernelspec": {
      "name": "python3",
      "display_name": "Python 3"
    }
  },
  "cells": [
    {
      "cell_type": "markdown",
      "metadata": {
        "id": "view-in-github",
        "colab_type": "text"
      },
      "source": [
        "<a href=\"https://colab.research.google.com/github/praveenreddi/LSTM_AMAZON_FOOD_REVIEWS/blob/master/LSTM_AMAZON_FOOD_REVIEWS.ipynb\" target=\"_parent\"><img src=\"https://colab.research.google.com/assets/colab-badge.svg\" alt=\"Open In Colab\"/></a>"
      ]
    },
    {
      "metadata": {
        "id": "2Zf0xyHUCjix",
        "colab_type": "code",
        "outputId": "8cecde17-c094-45e6-cf90-45d81818c24b",
        "colab": {
          "base_uri": "https://localhost:8080/",
          "height": 156
        }
      },
      "cell_type": "code",
      "source": [
        "!wget --header=\"Host: storage.googleapis.com\" --header=\"User-Agent: Mozilla/5.0 (Windows NT 10.0; Win64; x64) AppleWebKit/537.36 (KHTML, like Gecko) Chrome/71.0.3578.98 Safari/537.36\" --header=\"Accept: text/html,application/xhtml+xml,application/xml;q=0.9,image/webp,image/apng,*/*;q=0.8\" --header=\"Accept-Language: en-GB,en-US;q=0.9,en;q=0.8\" --header=\"Referer: https://www.kaggle.com/\" \"https://storage.googleapis.com/kaggle-datasets/18/2157/database.sqlite.zip?GoogleAccessId=web-data@kaggle-161607.iam.gserviceaccount.com&Expires=1546748808&Signature=sUBmjAzczxO0G9nSN8pp6X%2FNRmyAqSKQK8PG%2BYTGmPVsTjcH4buImFjq1r%2FS4DpJToeTL%2F%2FejOY1UHaORWV7icpCIdjIlKSAGZyUS4gwozw6LvGCYPplWxyQwYKjcODkMnurWrTTAFj5FiTP1Er7acvAgE%2BcMbLuFvCxDoVsc76hjbAJm8kl%2B%2BJc0I3ZS4%2F4kaBaZnMPy0PUhCl9mw9%2FmDAVwsNmBVNQXT5JOTKdISgKUQLA7roDvOejvEx%2BsHpRLIJSGjQtGCh7UShk%2BJ%2BtS%2FAgctkLxP4KzDUY%2B5mFSzzjqJzPc7vPBp7bp2TclQzMff8kIwcsvmGykVTH6KkTdA%3D%3D\" -O \"database.sqlite.zip\" -c\n"
      ],
      "execution_count": 0,
      "outputs": [
        {
          "output_type": "stream",
          "text": [
            "--2019-01-05 11:13:01--  https://storage.googleapis.com/kaggle-datasets/18/2157/database.sqlite.zip?GoogleAccessId=web-data@kaggle-161607.iam.gserviceaccount.com&Expires=1546748808&Signature=sUBmjAzczxO0G9nSN8pp6X%2FNRmyAqSKQK8PG%2BYTGmPVsTjcH4buImFjq1r%2FS4DpJToeTL%2F%2FejOY1UHaORWV7icpCIdjIlKSAGZyUS4gwozw6LvGCYPplWxyQwYKjcODkMnurWrTTAFj5FiTP1Er7acvAgE%2BcMbLuFvCxDoVsc76hjbAJm8kl%2B%2BJc0I3ZS4%2F4kaBaZnMPy0PUhCl9mw9%2FmDAVwsNmBVNQXT5JOTKdISgKUQLA7roDvOejvEx%2BsHpRLIJSGjQtGCh7UShk%2BJ%2BtS%2FAgctkLxP4KzDUY%2B5mFSzzjqJzPc7vPBp7bp2TclQzMff8kIwcsvmGykVTH6KkTdA%3D%3D\n",
            "Resolving storage.googleapis.com (storage.googleapis.com)... 74.125.142.128, 2607:f8b0:400e:c09::80\n",
            "Connecting to storage.googleapis.com (storage.googleapis.com)|74.125.142.128|:443... connected.\n",
            "HTTP request sent, awaiting response... 416 Requested range not satisfiable\n",
            "\n",
            "    The file is already fully retrieved; nothing to do.\n",
            "\n"
          ],
          "name": "stdout"
        }
      ]
    },
    {
      "metadata": {
        "id": "PcKA-VeDDjbx",
        "colab_type": "code",
        "outputId": "5e119d66-91d9-4e71-ba1c-b497f6c89c02",
        "colab": {
          "base_uri": "https://localhost:8080/",
          "height": 68
        }
      },
      "cell_type": "code",
      "source": [
        "!unzip database.sqlite.zip\n"
      ],
      "execution_count": 0,
      "outputs": [
        {
          "output_type": "stream",
          "text": [
            "Archive:  database.sqlite.zip\n",
            "replace database.sqlite? [y]es, [n]o, [A]ll, [N]one, [r]ename: y\n",
            "  inflating: database.sqlite         \n"
          ],
          "name": "stdout"
        }
      ]
    },
    {
      "metadata": {
        "id": "p-ors42I_gnQ",
        "colab_type": "code",
        "outputId": "ac18a947-a641-433b-9047-e2ff8628c66a",
        "colab": {
          "base_uri": "https://localhost:8080/",
          "height": 391
        }
      },
      "cell_type": "code",
      "source": [
        "\n",
        "\n",
        "import sqlite3\n",
        "import pandas as pd\n",
        "import numpy as np\n",
        "import nltk\n",
        "import string\n",
        "import matplotlib.pyplot as plt\n",
        "import seaborn as sns\n",
        "\n",
        "\n",
        "con = sqlite3.connect('database.sqlite')#Using SQLite table to read the data\n",
        "\n",
        "#Filtering the data such that reviews will be only positive and negative and not considering review with score=3\n",
        "\n",
        "data = pd.read_sql_query(\"\"\"\n",
        "SELECT *\n",
        "FROM Reviews\n",
        "WHERE Score != 3\n",
        "\"\"\", con) \n",
        "\n",
        "# Give reviews with Score>3 a positive rating, and reviews with a score<3 a negative rating.\n",
        "def partition(x):\n",
        "    if x < 3:\n",
        "        return 'negative'\n",
        "    return 'positive'\n",
        "\n",
        "#changing reviews with score less than 3 to be positive and vice-versa\n",
        "actualScore = data['Score']\n",
        "positiveNegative = actualScore.map(partition) \n",
        "data['Score'] = positiveNegative\n",
        "print(data.shape)\n",
        "data.head()"
      ],
      "execution_count": 0,
      "outputs": [
        {
          "output_type": "stream",
          "text": [
            "(525814, 10)\n"
          ],
          "name": "stdout"
        },
        {
          "output_type": "execute_result",
          "data": {
            "text/html": [
              "<div>\n",
              "<style scoped>\n",
              "    .dataframe tbody tr th:only-of-type {\n",
              "        vertical-align: middle;\n",
              "    }\n",
              "\n",
              "    .dataframe tbody tr th {\n",
              "        vertical-align: top;\n",
              "    }\n",
              "\n",
              "    .dataframe thead th {\n",
              "        text-align: right;\n",
              "    }\n",
              "</style>\n",
              "<table border=\"1\" class=\"dataframe\">\n",
              "  <thead>\n",
              "    <tr style=\"text-align: right;\">\n",
              "      <th></th>\n",
              "      <th>Id</th>\n",
              "      <th>ProductId</th>\n",
              "      <th>UserId</th>\n",
              "      <th>ProfileName</th>\n",
              "      <th>HelpfulnessNumerator</th>\n",
              "      <th>HelpfulnessDenominator</th>\n",
              "      <th>Score</th>\n",
              "      <th>Time</th>\n",
              "      <th>Summary</th>\n",
              "      <th>Text</th>\n",
              "    </tr>\n",
              "  </thead>\n",
              "  <tbody>\n",
              "    <tr>\n",
              "      <th>0</th>\n",
              "      <td>1</td>\n",
              "      <td>B001E4KFG0</td>\n",
              "      <td>A3SGXH7AUHU8GW</td>\n",
              "      <td>delmartian</td>\n",
              "      <td>1</td>\n",
              "      <td>1</td>\n",
              "      <td>positive</td>\n",
              "      <td>1303862400</td>\n",
              "      <td>Good Quality Dog Food</td>\n",
              "      <td>I have bought several of the Vitality canned d...</td>\n",
              "    </tr>\n",
              "    <tr>\n",
              "      <th>1</th>\n",
              "      <td>2</td>\n",
              "      <td>B00813GRG4</td>\n",
              "      <td>A1D87F6ZCVE5NK</td>\n",
              "      <td>dll pa</td>\n",
              "      <td>0</td>\n",
              "      <td>0</td>\n",
              "      <td>negative</td>\n",
              "      <td>1346976000</td>\n",
              "      <td>Not as Advertised</td>\n",
              "      <td>Product arrived labeled as Jumbo Salted Peanut...</td>\n",
              "    </tr>\n",
              "    <tr>\n",
              "      <th>2</th>\n",
              "      <td>3</td>\n",
              "      <td>B000LQOCH0</td>\n",
              "      <td>ABXLMWJIXXAIN</td>\n",
              "      <td>Natalia Corres \"Natalia Corres\"</td>\n",
              "      <td>1</td>\n",
              "      <td>1</td>\n",
              "      <td>positive</td>\n",
              "      <td>1219017600</td>\n",
              "      <td>\"Delight\" says it all</td>\n",
              "      <td>This is a confection that has been around a fe...</td>\n",
              "    </tr>\n",
              "    <tr>\n",
              "      <th>3</th>\n",
              "      <td>4</td>\n",
              "      <td>B000UA0QIQ</td>\n",
              "      <td>A395BORC6FGVXV</td>\n",
              "      <td>Karl</td>\n",
              "      <td>3</td>\n",
              "      <td>3</td>\n",
              "      <td>negative</td>\n",
              "      <td>1307923200</td>\n",
              "      <td>Cough Medicine</td>\n",
              "      <td>If you are looking for the secret ingredient i...</td>\n",
              "    </tr>\n",
              "    <tr>\n",
              "      <th>4</th>\n",
              "      <td>5</td>\n",
              "      <td>B006K2ZZ7K</td>\n",
              "      <td>A1UQRSCLF8GW1T</td>\n",
              "      <td>Michael D. Bigham \"M. Wassir\"</td>\n",
              "      <td>0</td>\n",
              "      <td>0</td>\n",
              "      <td>positive</td>\n",
              "      <td>1350777600</td>\n",
              "      <td>Great taffy</td>\n",
              "      <td>Great taffy at a great price.  There was a wid...</td>\n",
              "    </tr>\n",
              "  </tbody>\n",
              "</table>\n",
              "</div>"
            ],
            "text/plain": [
              "   Id   ProductId          UserId                      ProfileName  \\\n",
              "0   1  B001E4KFG0  A3SGXH7AUHU8GW                       delmartian   \n",
              "1   2  B00813GRG4  A1D87F6ZCVE5NK                           dll pa   \n",
              "2   3  B000LQOCH0   ABXLMWJIXXAIN  Natalia Corres \"Natalia Corres\"   \n",
              "3   4  B000UA0QIQ  A395BORC6FGVXV                             Karl   \n",
              "4   5  B006K2ZZ7K  A1UQRSCLF8GW1T    Michael D. Bigham \"M. Wassir\"   \n",
              "\n",
              "   HelpfulnessNumerator  HelpfulnessDenominator     Score        Time  \\\n",
              "0                     1                       1  positive  1303862400   \n",
              "1                     0                       0  negative  1346976000   \n",
              "2                     1                       1  positive  1219017600   \n",
              "3                     3                       3  negative  1307923200   \n",
              "4                     0                       0  positive  1350777600   \n",
              "\n",
              "                 Summary                                               Text  \n",
              "0  Good Quality Dog Food  I have bought several of the Vitality canned d...  \n",
              "1      Not as Advertised  Product arrived labeled as Jumbo Salted Peanut...  \n",
              "2  \"Delight\" says it all  This is a confection that has been around a fe...  \n",
              "3         Cough Medicine  If you are looking for the secret ingredient i...  \n",
              "4            Great taffy  Great taffy at a great price.  There was a wid...  "
            ]
          },
          "metadata": {
            "tags": []
          },
          "execution_count": 3
        }
      ]
    },
    {
      "metadata": {
        "id": "M0PtMxhSB8Vf",
        "colab_type": "code",
        "outputId": "2f4fca61-b4ee-45ee-c7e3-93128aa5f571",
        "colab": {
          "base_uri": "https://localhost:8080/",
          "height": 34
        }
      },
      "cell_type": "code",
      "source": [
        "data.shape"
      ],
      "execution_count": 0,
      "outputs": [
        {
          "output_type": "execute_result",
          "data": {
            "text/plain": [
              "(525814, 10)"
            ]
          },
          "metadata": {
            "tags": []
          },
          "execution_count": 4
        }
      ]
    },
    {
      "metadata": {
        "id": "0U869dyBCCyQ",
        "colab_type": "code",
        "colab": {}
      },
      "cell_type": "code",
      "source": [
        "#Sorting data according to ProductId in ascending order\n",
        "sorted_data=data.sort_values('ProductId', axis=0, ascending=True, inplace=False, kind='quicksort', na_position='last')"
      ],
      "execution_count": 0,
      "outputs": []
    },
    {
      "metadata": {
        "id": "ADDnRscXCHwa",
        "colab_type": "code",
        "outputId": "f04c933b-91f7-4d2d-c723-1d0219596a13",
        "colab": {
          "base_uri": "https://localhost:8080/",
          "height": 34
        }
      },
      "cell_type": "code",
      "source": [
        "#Deduplication of entries\n",
        "final=sorted_data.drop_duplicates(subset={\"UserId\",\"ProfileName\",\"Time\",\"Text\"}, keep='first', inplace=False)\n",
        "final.shape"
      ],
      "execution_count": 0,
      "outputs": [
        {
          "output_type": "execute_result",
          "data": {
            "text/plain": [
              "(364173, 10)"
            ]
          },
          "metadata": {
            "tags": []
          },
          "execution_count": 6
        }
      ]
    },
    {
      "metadata": {
        "id": "KWW8wtLTCLlm",
        "colab_type": "code",
        "outputId": "8779ed0a-48f0-4a77-d37c-d987bbde268b",
        "colab": {
          "base_uri": "https://localhost:8080/",
          "height": 34
        }
      },
      "cell_type": "code",
      "source": [
        "#Checking to see how much % of data still remains\n",
        "(final['Id'].size*1.0)/(data['Id'].size*1.0)*100"
      ],
      "execution_count": 0,
      "outputs": [
        {
          "output_type": "execute_result",
          "data": {
            "text/plain": [
              "69.25890143662969"
            ]
          },
          "metadata": {
            "tags": []
          },
          "execution_count": 7
        }
      ]
    },
    {
      "metadata": {
        "id": "44T8JACiCQyW",
        "colab_type": "code",
        "colab": {}
      },
      "cell_type": "code",
      "source": [
        "final=final[final.HelpfulnessNumerator<=final.HelpfulnessDenominator]"
      ],
      "execution_count": 0,
      "outputs": []
    },
    {
      "metadata": {
        "id": "xzvXS15kCWz8",
        "colab_type": "code",
        "outputId": "2b84ca6a-4909-4b35-ea08-239eb3ee7ced",
        "colab": {
          "base_uri": "https://localhost:8080/",
          "height": 34
        }
      },
      "cell_type": "code",
      "source": [
        "final['Score'].size"
      ],
      "execution_count": 0,
      "outputs": [
        {
          "output_type": "execute_result",
          "data": {
            "text/plain": [
              "364171"
            ]
          },
          "metadata": {
            "tags": []
          },
          "execution_count": 9
        }
      ]
    },
    {
      "metadata": {
        "id": "ORzO4jk0CaAu",
        "colab_type": "code",
        "outputId": "3393b8df-0a53-4d8d-ccb3-d364bd3f8dec",
        "colab": {
          "base_uri": "https://localhost:8080/",
          "height": 374
        }
      },
      "cell_type": "code",
      "source": [
        "def polarity(X):\n",
        "    if X=='positive':\n",
        "        return 1\n",
        "    else:\n",
        "        return 0\n",
        "final[\"Score\"]=final[\"Score\"].map(polarity)\n",
        "final.head()"
      ],
      "execution_count": 0,
      "outputs": [
        {
          "output_type": "execute_result",
          "data": {
            "text/html": [
              "<div>\n",
              "<style scoped>\n",
              "    .dataframe tbody tr th:only-of-type {\n",
              "        vertical-align: middle;\n",
              "    }\n",
              "\n",
              "    .dataframe tbody tr th {\n",
              "        vertical-align: top;\n",
              "    }\n",
              "\n",
              "    .dataframe thead th {\n",
              "        text-align: right;\n",
              "    }\n",
              "</style>\n",
              "<table border=\"1\" class=\"dataframe\">\n",
              "  <thead>\n",
              "    <tr style=\"text-align: right;\">\n",
              "      <th></th>\n",
              "      <th>Id</th>\n",
              "      <th>ProductId</th>\n",
              "      <th>UserId</th>\n",
              "      <th>ProfileName</th>\n",
              "      <th>HelpfulnessNumerator</th>\n",
              "      <th>HelpfulnessDenominator</th>\n",
              "      <th>Score</th>\n",
              "      <th>Time</th>\n",
              "      <th>Summary</th>\n",
              "      <th>Text</th>\n",
              "    </tr>\n",
              "  </thead>\n",
              "  <tbody>\n",
              "    <tr>\n",
              "      <th>138706</th>\n",
              "      <td>150524</td>\n",
              "      <td>0006641040</td>\n",
              "      <td>ACITT7DI6IDDL</td>\n",
              "      <td>shari zychinski</td>\n",
              "      <td>0</td>\n",
              "      <td>0</td>\n",
              "      <td>1</td>\n",
              "      <td>939340800</td>\n",
              "      <td>EVERY book is educational</td>\n",
              "      <td>this witty little book makes my son laugh at l...</td>\n",
              "    </tr>\n",
              "    <tr>\n",
              "      <th>138688</th>\n",
              "      <td>150506</td>\n",
              "      <td>0006641040</td>\n",
              "      <td>A2IW4PEEKO2R0U</td>\n",
              "      <td>Tracy</td>\n",
              "      <td>1</td>\n",
              "      <td>1</td>\n",
              "      <td>1</td>\n",
              "      <td>1194739200</td>\n",
              "      <td>Love the book, miss the hard cover version</td>\n",
              "      <td>I grew up reading these Sendak books, and watc...</td>\n",
              "    </tr>\n",
              "    <tr>\n",
              "      <th>138689</th>\n",
              "      <td>150507</td>\n",
              "      <td>0006641040</td>\n",
              "      <td>A1S4A3IQ2MU7V4</td>\n",
              "      <td>sally sue \"sally sue\"</td>\n",
              "      <td>1</td>\n",
              "      <td>1</td>\n",
              "      <td>1</td>\n",
              "      <td>1191456000</td>\n",
              "      <td>chicken soup with rice months</td>\n",
              "      <td>This is a fun way for children to learn their ...</td>\n",
              "    </tr>\n",
              "    <tr>\n",
              "      <th>138690</th>\n",
              "      <td>150508</td>\n",
              "      <td>0006641040</td>\n",
              "      <td>AZGXZ2UUK6X</td>\n",
              "      <td>Catherine Hallberg \"(Kate)\"</td>\n",
              "      <td>1</td>\n",
              "      <td>1</td>\n",
              "      <td>1</td>\n",
              "      <td>1076025600</td>\n",
              "      <td>a good swingy rhythm for reading aloud</td>\n",
              "      <td>This is a great little book to read aloud- it ...</td>\n",
              "    </tr>\n",
              "    <tr>\n",
              "      <th>138691</th>\n",
              "      <td>150509</td>\n",
              "      <td>0006641040</td>\n",
              "      <td>A3CMRKGE0P909G</td>\n",
              "      <td>Teresa</td>\n",
              "      <td>3</td>\n",
              "      <td>4</td>\n",
              "      <td>1</td>\n",
              "      <td>1018396800</td>\n",
              "      <td>A great way to learn the months</td>\n",
              "      <td>This is a book of poetry about the months of t...</td>\n",
              "    </tr>\n",
              "  </tbody>\n",
              "</table>\n",
              "</div>"
            ],
            "text/plain": [
              "            Id   ProductId          UserId                  ProfileName  \\\n",
              "138706  150524  0006641040   ACITT7DI6IDDL              shari zychinski   \n",
              "138688  150506  0006641040  A2IW4PEEKO2R0U                        Tracy   \n",
              "138689  150507  0006641040  A1S4A3IQ2MU7V4        sally sue \"sally sue\"   \n",
              "138690  150508  0006641040     AZGXZ2UUK6X  Catherine Hallberg \"(Kate)\"   \n",
              "138691  150509  0006641040  A3CMRKGE0P909G                       Teresa   \n",
              "\n",
              "        HelpfulnessNumerator  HelpfulnessDenominator  Score        Time  \\\n",
              "138706                     0                       0      1   939340800   \n",
              "138688                     1                       1      1  1194739200   \n",
              "138689                     1                       1      1  1191456000   \n",
              "138690                     1                       1      1  1076025600   \n",
              "138691                     3                       4      1  1018396800   \n",
              "\n",
              "                                           Summary  \\\n",
              "138706                   EVERY book is educational   \n",
              "138688  Love the book, miss the hard cover version   \n",
              "138689               chicken soup with rice months   \n",
              "138690      a good swingy rhythm for reading aloud   \n",
              "138691             A great way to learn the months   \n",
              "\n",
              "                                                     Text  \n",
              "138706  this witty little book makes my son laugh at l...  \n",
              "138688  I grew up reading these Sendak books, and watc...  \n",
              "138689  This is a fun way for children to learn their ...  \n",
              "138690  This is a great little book to read aloud- it ...  \n",
              "138691  This is a book of poetry about the months of t...  "
            ]
          },
          "metadata": {
            "tags": []
          },
          "execution_count": 10
        }
      ]
    },
    {
      "metadata": {
        "id": "GrbG1ou02zkl",
        "colab_type": "code",
        "outputId": "bfd8606b-e8ed-48e4-dbb8-b93b72eb20d1",
        "colab": {
          "base_uri": "https://localhost:8080/",
          "height": 34
        }
      },
      "cell_type": "code",
      "source": [
        "final = final[final['ProductId'] != '2841233731']\n",
        "final = final[final['ProductId'] != '0006641040']\n",
        "final.shape"
      ],
      "execution_count": 0,
      "outputs": [
        {
          "output_type": "execute_result",
          "data": {
            "text/plain": [
              "(364136, 10)"
            ]
          },
          "metadata": {
            "tags": []
          },
          "execution_count": 11
        }
      ]
    },
    {
      "metadata": {
        "id": "JjLKiCMtCdhN",
        "colab_type": "code",
        "outputId": "fe4ab6bd-fda6-433c-e7e5-40090df17ca1",
        "colab": {
          "base_uri": "https://localhost:8080/",
          "height": 88
        }
      },
      "cell_type": "code",
      "source": [
        "import re\n",
        "import string\n",
        "from nltk.corpus import stopwords\n",
        "from nltk.stem import PorterStemmer\n",
        "from nltk.stem.wordnet import WordNetLemmatizer\n",
        "\n",
        "import nltk\n",
        "nltk.download('stopwords')\n",
        "\n",
        "stop = set(stopwords.words('english')) #set of stopwords\n",
        "sno = nltk.stem.SnowballStemmer('english') #initialising the snowball stemmer\n",
        "\n",
        "def cleanhtml(sentence): #function to clean the word of any html-tags\n",
        "    cleanr = re.compile('<.*?>')\n",
        "    cleantext = re.sub(cleanr, ' ', sentence)\n",
        "    return cleantext\n",
        "def cleanpunc(sentence): #function to clean the word of any punctuation or special characters\n",
        "    cleaned = re.sub(r'[?|!|\\'|\"|#]',r'',sentence)\n",
        "    cleaned = re.sub(r'[.|,|)|(|\\|/]',r' ',cleaned)\n",
        "    return  cleaned\n",
        "print(stop)"
      ],
      "execution_count": 0,
      "outputs": [
        {
          "output_type": "stream",
          "text": [
            "[nltk_data] Downloading package stopwords to /root/nltk_data...\n",
            "[nltk_data]   Package stopwords is already up-to-date!\n",
            "{'don', 'i', 'same', 'this', 'll', 'again', 'can', 'for', 'both', 'as', \"don't\", 'been', 'down', 'just', 'are', 'these', 'needn', \"that'll\", \"shan't\", 'his', 'than', 'while', 'about', \"haven't\", 'is', 'off', 'yours', \"shouldn't\", 'have', \"didn't\", 'me', 'couldn', 'ourselves', 'how', 'not', 'haven', 'the', \"couldn't\", 'd', \"she's\", 'aren', 'your', 'when', 'weren', 'shouldn', 'to', 'do', 'ain', 'ma', 'during', 'whom', 'with', 'each', 'hasn', 'but', 'who', 'does', \"you'll\", 'above', 'was', 'no', 'hadn', \"wasn't\", 'few', 'before', 'doing', \"it's\", 'so', 'hers', 'an', 'am', 'wasn', 'that', 'should', 'all', 'were', 'being', 'himself', 'between', 'itself', 'from', 'why', 'under', 'theirs', 'what', 'or', 'isn', 'there', \"you're\", \"weren't\", 'did', 'yourselves', \"won't\", 'it', 'its', \"aren't\", 'will', \"should've\", 'has', 'a', 'in', 'such', 'nor', \"you'd\", 've', 'which', 'after', 'below', 'y', 'too', \"needn't\", 'own', 'be', 'once', 'then', 'doesn', 'their', 'yourself', 'and', 'where', \"mustn't\", 's', 't', 'we', 'into', 'him', \"hasn't\", 'she', 'of', 'here', 'because', 'through', 'at', 'ours', 'them', 'her', \"wouldn't\", 'shan', 'herself', 'now', 'my', 'didn', 'mustn', 'further', 'out', 'they', \"you've\", \"hadn't\", 'more', 'our', 'if', 'very', 'had', 'any', 'up', 'on', 'over', 'myself', 'o', 'themselves', 'against', 'some', 'm', \"doesn't\", 'until', 'you', \"mightn't\", \"isn't\", 'most', 'other', 'won', 'mightn', 'having', 're', 'by', 'those', 'only', 'he', 'wouldn'}\n"
          ],
          "name": "stdout"
        }
      ]
    },
    {
      "metadata": {
        "id": "xccKiJk3Ci92",
        "colab_type": "code",
        "outputId": "7bf809af-3a90-424e-b6a6-cbb0ae89432b",
        "colab": {
          "base_uri": "https://localhost:8080/",
          "height": 51
        }
      },
      "cell_type": "code",
      "source": [
        "%%time\n",
        "\n",
        "from time import time\n",
        "i=0\n",
        "str1=' '\n",
        "final_string=[]\n",
        "# all_positive_words=[] # store words from +ve reviews here\n",
        "# all_negative_words=[] # store words from -ve reviews here.\n",
        "s=''\n",
        "for sent in final['Text'].values:\n",
        "    filtered_sentence=[]\n",
        "    #print(sent);\n",
        "    sent=cleanhtml(sent) # remove HTMl tags\n",
        "    for w in sent.split():\n",
        "        for cleaned_words in cleanpunc(w).split():\n",
        "            if((cleaned_words.isalpha()) & (len(cleaned_words)>2)):    \n",
        "                if(cleaned_words.lower() not in stop):\n",
        "                    s=(sno.stem(cleaned_words.lower())).encode('utf8')\n",
        "                    filtered_sentence.append(s)\n",
        "#                     if (final['Score'].values)[i] == 'positive': \n",
        "#                         all_positive_words.append(s) #list of all words used to describe positive reviews\n",
        "#                     if(final['Score'].values)[i] == 'negative':\n",
        "#                         all_negative_words.append(s) #list of all words used to describe negative reviews reviews\n",
        "                else:\n",
        "                    continue\n",
        "            else:\n",
        "                continue \n",
        "    #print(filtered_sentence)\n",
        "    str1 = b\" \".join(filtered_sentence) #final string of cleaned words\n",
        "    #print(\"***********************************************************************\")\n",
        "    \n",
        "    final_string.append(str1)\n",
        "    i+=1"
      ],
      "execution_count": 0,
      "outputs": [
        {
          "output_type": "stream",
          "text": [
            "CPU times: user 5min 53s, sys: 51.6 ms, total: 5min 53s\n",
            "Wall time: 5min 53s\n"
          ],
          "name": "stdout"
        }
      ]
    },
    {
      "metadata": {
        "id": "HTMjLbkS4lsq",
        "colab_type": "code",
        "outputId": "076de127-8b66-4467-d3fd-0a6f27f75874",
        "colab": {
          "base_uri": "https://localhost:8080/",
          "height": 544
        }
      },
      "cell_type": "code",
      "source": [
        "#adding a column of CleanedText which displays the data after pre-processing of the review\n",
        "final['CleanedText']=final_string  \n",
        "final['CleanedText']=final['CleanedText'].str.decode(\"utf-8\")\n",
        "#below the processed review can be seen in the CleanedText Column \n",
        "print('Shape of final',final.shape)\n",
        "final.head()"
      ],
      "execution_count": 0,
      "outputs": [
        {
          "output_type": "stream",
          "text": [
            "Shape of final (364136, 11)\n"
          ],
          "name": "stdout"
        },
        {
          "output_type": "execute_result",
          "data": {
            "text/html": [
              "<div>\n",
              "<style scoped>\n",
              "    .dataframe tbody tr th:only-of-type {\n",
              "        vertical-align: middle;\n",
              "    }\n",
              "\n",
              "    .dataframe tbody tr th {\n",
              "        vertical-align: top;\n",
              "    }\n",
              "\n",
              "    .dataframe thead th {\n",
              "        text-align: right;\n",
              "    }\n",
              "</style>\n",
              "<table border=\"1\" class=\"dataframe\">\n",
              "  <thead>\n",
              "    <tr style=\"text-align: right;\">\n",
              "      <th></th>\n",
              "      <th>Id</th>\n",
              "      <th>ProductId</th>\n",
              "      <th>UserId</th>\n",
              "      <th>ProfileName</th>\n",
              "      <th>HelpfulnessNumerator</th>\n",
              "      <th>HelpfulnessDenominator</th>\n",
              "      <th>Score</th>\n",
              "      <th>Time</th>\n",
              "      <th>Summary</th>\n",
              "      <th>Text</th>\n",
              "      <th>CleanedText</th>\n",
              "    </tr>\n",
              "  </thead>\n",
              "  <tbody>\n",
              "    <tr>\n",
              "      <th>476617</th>\n",
              "      <td>515426</td>\n",
              "      <td>141278509X</td>\n",
              "      <td>AB1A5EGHHVA9M</td>\n",
              "      <td>CHelmic</td>\n",
              "      <td>1</td>\n",
              "      <td>1</td>\n",
              "      <td>1</td>\n",
              "      <td>1332547200</td>\n",
              "      <td>The best drink mix</td>\n",
              "      <td>This product by Archer Farms is the best drink...</td>\n",
              "      <td>product archer farm best drink mix ever mix fl...</td>\n",
              "    </tr>\n",
              "    <tr>\n",
              "      <th>22621</th>\n",
              "      <td>24751</td>\n",
              "      <td>2734888454</td>\n",
              "      <td>A1C298ITT645B6</td>\n",
              "      <td>Hugh G. Pritchard</td>\n",
              "      <td>0</td>\n",
              "      <td>0</td>\n",
              "      <td>1</td>\n",
              "      <td>1195948800</td>\n",
              "      <td>Dog Lover Delites</td>\n",
              "      <td>Our dogs just love them.  I saw them in a pet ...</td>\n",
              "      <td>dog love saw pet store tag attach regard made ...</td>\n",
              "    </tr>\n",
              "    <tr>\n",
              "      <th>22620</th>\n",
              "      <td>24750</td>\n",
              "      <td>2734888454</td>\n",
              "      <td>A13ISQV0U9GZIC</td>\n",
              "      <td>Sandikaye</td>\n",
              "      <td>1</td>\n",
              "      <td>1</td>\n",
              "      <td>0</td>\n",
              "      <td>1192060800</td>\n",
              "      <td>made in china</td>\n",
              "      <td>My dogs loves this chicken but its a product f...</td>\n",
              "      <td>dog love chicken product china wont buy anymor...</td>\n",
              "    </tr>\n",
              "    <tr>\n",
              "      <th>157850</th>\n",
              "      <td>171161</td>\n",
              "      <td>7310172001</td>\n",
              "      <td>AFXMWPNS1BLU4</td>\n",
              "      <td>H. Sandler</td>\n",
              "      <td>0</td>\n",
              "      <td>0</td>\n",
              "      <td>1</td>\n",
              "      <td>1229385600</td>\n",
              "      <td>Excellent treats</td>\n",
              "      <td>I have been feeding my greyhounds these treats...</td>\n",
              "      <td>feed greyhound treat year hound littl finicki ...</td>\n",
              "    </tr>\n",
              "    <tr>\n",
              "      <th>157849</th>\n",
              "      <td>171160</td>\n",
              "      <td>7310172001</td>\n",
              "      <td>A74C7IARQEM1R</td>\n",
              "      <td>stucker</td>\n",
              "      <td>0</td>\n",
              "      <td>0</td>\n",
              "      <td>1</td>\n",
              "      <td>1230076800</td>\n",
              "      <td>Sophie's Treats</td>\n",
              "      <td>This is one product that my welsh terrier can ...</td>\n",
              "      <td>one product welsh terrier eat sophi food alerg...</td>\n",
              "    </tr>\n",
              "  </tbody>\n",
              "</table>\n",
              "</div>"
            ],
            "text/plain": [
              "            Id   ProductId          UserId        ProfileName  \\\n",
              "476617  515426  141278509X   AB1A5EGHHVA9M            CHelmic   \n",
              "22621    24751  2734888454  A1C298ITT645B6  Hugh G. Pritchard   \n",
              "22620    24750  2734888454  A13ISQV0U9GZIC          Sandikaye   \n",
              "157850  171161  7310172001   AFXMWPNS1BLU4         H. Sandler   \n",
              "157849  171160  7310172001   A74C7IARQEM1R            stucker   \n",
              "\n",
              "        HelpfulnessNumerator  HelpfulnessDenominator  Score        Time  \\\n",
              "476617                     1                       1      1  1332547200   \n",
              "22621                      0                       0      1  1195948800   \n",
              "22620                      1                       1      0  1192060800   \n",
              "157850                     0                       0      1  1229385600   \n",
              "157849                     0                       0      1  1230076800   \n",
              "\n",
              "                   Summary                                               Text  \\\n",
              "476617  The best drink mix  This product by Archer Farms is the best drink...   \n",
              "22621    Dog Lover Delites  Our dogs just love them.  I saw them in a pet ...   \n",
              "22620        made in china  My dogs loves this chicken but its a product f...   \n",
              "157850    Excellent treats  I have been feeding my greyhounds these treats...   \n",
              "157849     Sophie's Treats  This is one product that my welsh terrier can ...   \n",
              "\n",
              "                                              CleanedText  \n",
              "476617  product archer farm best drink mix ever mix fl...  \n",
              "22621   dog love saw pet store tag attach regard made ...  \n",
              "22620   dog love chicken product china wont buy anymor...  \n",
              "157850  feed greyhound treat year hound littl finicki ...  \n",
              "157849  one product welsh terrier eat sophi food alerg...  "
            ]
          },
          "metadata": {
            "tags": []
          },
          "execution_count": 14
        }
      ]
    },
    {
      "metadata": {
        "id": "_iH6VBvd0ni7",
        "colab_type": "code",
        "outputId": "ad213cd5-234e-4c7b-c402-775ebaa0467d",
        "colab": {
          "base_uri": "https://localhost:8080/",
          "height": 34
        }
      },
      "cell_type": "code",
      "source": [
        "from sklearn.feature_extraction.text import CountVectorizer\n",
        "\n",
        "##Sorting data according to Time in ascending order for Time Based Splitting\n",
        "time_sorted_data = final.sort_values('Time', axis=0, ascending=True, inplace=False, kind='quicksort', na_position='last')\n",
        "\n",
        "x = time_sorted_data['CleanedText'].values\n",
        "y = time_sorted_data['Score']\n",
        "\n",
        "# Finding all words in the vocabulary\n",
        "count_vect = CountVectorizer() \n",
        "count_vect.fit(x)\n",
        "\n",
        "vocabulary = count_vect.get_feature_names()\n",
        "print('No. of words in the Vocabulary : ',len(vocabulary))\n",
        "\n"
      ],
      "execution_count": 0,
      "outputs": [
        {
          "output_type": "stream",
          "text": [
            "No. of words in the Vocabulary :  71611\n"
          ],
          "name": "stdout"
        }
      ]
    },
    {
      "metadata": {
        "id": "4TsEc83f1GtM",
        "colab_type": "code",
        "colab": {}
      },
      "cell_type": "code",
      "source": [
        "# Storing all words in the dictionary (words as keys and index as values)\n",
        "corpus = dict()\n",
        "ind = 0\n",
        "for sent in x:\n",
        "  for word in sent.split():\n",
        "    corpus.setdefault(word,[])\n",
        "    corpus[word].append(ind)\n",
        "    ind += 1\n",
        "\n",
        "# Getting frequency for each word of vocabulary and storing it in a list\n",
        "freq = []\n",
        "for w in vocabulary:\n",
        "  freq.append(len(corpus[w]))"
      ],
      "execution_count": 0,
      "outputs": []
    },
    {
      "metadata": {
        "id": "3t6DPww81NUU",
        "colab_type": "code",
        "colab": {}
      },
      "cell_type": "code",
      "source": [
        "# Getting Index for each word in the vocabulary\n",
        "# Sorting frequencies in decreasing order\n",
        "inc_index =np.argsort(np.array(freq))[::-1]\n",
        "\n",
        "# Allocating ranks to words of vocabulary in decreasing order of frequency and storing words in a dictionary\n",
        "word_rank = dict()\n",
        "rank = 1\n",
        "for i in inc_index:\n",
        "  word_rank[vocabulary[i]] = rank\n",
        "  rank +=1"
      ],
      "execution_count": 0,
      "outputs": []
    },
    {
      "metadata": {
        "id": "_QA213yB4GCE",
        "colab_type": "code",
        "colab": {}
      },
      "cell_type": "code",
      "source": [
        "# Converting full data into imdb format\n",
        "data = []\n",
        "for sent in x:\n",
        "  row = []\n",
        "  for word in sent.split():\n",
        "    if(len(word)>1):\n",
        "      row.append(word_rank[word])\n",
        "  data.append(row)\n",
        "\n",
        "# Splitting the data into 50-50 train_data and test_data\n",
        "from sklearn.model_selection import train_test_split \n",
        "X_train, X_test, Y_train, Y_test = train_test_split(data, y, test_size=0.5)"
      ],
      "execution_count": 0,
      "outputs": []
    },
    {
      "metadata": {
        "id": "EJZTyXux4G-8",
        "colab_type": "code",
        "outputId": "3fd46a39-62ab-428b-d234-d280528a97ea",
        "colab": {
          "base_uri": "https://localhost:8080/",
          "height": 85
        }
      },
      "cell_type": "code",
      "source": [
        "print(\"No. of datapoints in X_train :\",len(X_train))\n",
        "print(\"No. of datapoints in X_test :\",len(X_test))\n",
        "print(\"Shape of Y_train :\",Y_train.shape)\n",
        "print(\"Shape of Y_test :\",Y_test.shape)"
      ],
      "execution_count": 0,
      "outputs": [
        {
          "output_type": "stream",
          "text": [
            "No. of datapoints in X_train : 182068\n",
            "No. of datapoints in X_test : 182068\n",
            "Shape of Y_train : (182068,)\n",
            "Shape of Y_test : (182068,)\n"
          ],
          "name": "stdout"
        }
      ]
    },
    {
      "metadata": {
        "id": "-sQqQ_3A4TkJ",
        "colab_type": "code",
        "outputId": "a764aabf-d2ae-4e58-b31a-2926a1bb3a50",
        "colab": {
          "base_uri": "https://localhost:8080/",
          "height": 34
        }
      },
      "cell_type": "code",
      "source": [
        "print(X_train[1])"
      ],
      "execution_count": 0,
      "outputs": [
        {
          "output_type": "stream",
          "text": [
            "[8, 5, 76, 199, 10, 2319, 24, 671, 17, 109, 279, 74, 427]\n"
          ],
          "name": "stdout"
        }
      ]
    },
    {
      "metadata": {
        "id": "MX0pUYOqLokE",
        "colab_type": "code",
        "outputId": "2a846530-ce8f-4db4-88fd-7ce25f8b32b3",
        "colab": {
          "base_uri": "https://localhost:8080/",
          "height": 34
        }
      },
      "cell_type": "code",
      "source": [
        "# Importing libraries\n",
        "from keras.models import Sequential\n",
        "from keras.layers import Dense\n",
        "from keras.layers import LSTM\n",
        "from keras.layers.embeddings import Embedding\n",
        "from keras.preprocessing import sequence\n",
        "from keras.layers import Dropout\n",
        "# fix random seed for reproducibility\n",
        "np.random.seed(7)"
      ],
      "execution_count": 0,
      "outputs": [
        {
          "output_type": "stream",
          "text": [
            "Using TensorFlow backend.\n"
          ],
          "name": "stderr"
        }
      ]
    },
    {
      "metadata": {
        "id": "4sX7mFZJHDnr",
        "colab_type": "code",
        "outputId": "13972656-0beb-4410-82db-86fe30495f9e",
        "colab": {
          "base_uri": "https://localhost:8080/",
          "height": 170
        }
      },
      "cell_type": "code",
      "source": [
        "# truncate and/or pad input sequences\n",
        "max_review_length = 100\n",
        "X_train = sequence.pad_sequences(X_train, maxlen=max_review_length)\n",
        "X_test = sequence.pad_sequences(X_test, maxlen=max_review_length)\n",
        "\n",
        "print(X_train.shape)\n",
        "print(X_train[1])"
      ],
      "execution_count": 0,
      "outputs": [
        {
          "output_type": "stream",
          "text": [
            "(182068, 100)\n",
            "[   0    0    0    0    0    0    0    0    0    0    0    0    0    0\n",
            "    0    0    0    0    0    0    0    0    0    0    0    0    0    0\n",
            "    0    0    0    0    0    0    0    0    0    0    0    0    0    0\n",
            "    0    0    0    0    0    0    0    0    0    0    0    0    0    0\n",
            "    0    0    0    0    0    0    0    0    0    0    0    0    0    0\n",
            "    0    0    0    0    0    0    0    0    0    0    0    0    0    0\n",
            "    0    0    0    8    5   76  199   10 2319   24  671   17  109  279\n",
            "   74  427]\n"
          ],
          "name": "stdout"
        }
      ]
    },
    {
      "metadata": {
        "id": "bg5jTDcDMAo0",
        "colab_type": "code",
        "outputId": "ff33337c-dc10-4ce6-9224-ee2ac3988eaf",
        "colab": {
          "base_uri": "https://localhost:8080/",
          "height": 255
        }
      },
      "cell_type": "code",
      "source": [
        "# create the model\n",
        "embedding_vector_length = 32\n",
        "model_1 = Sequential()\n",
        "model_1.add(Embedding(len(vocabulary)+1, embedding_vector_length, input_length=max_review_length))\n",
        "model_1.add(LSTM(100))\n",
        "model_1.add(Dense(1, activation='sigmoid'))\n",
        "model_1.compile(loss='binary_crossentropy', optimizer='adam', metrics=['accuracy'])\n",
        "print(model_1.summary())"
      ],
      "execution_count": 0,
      "outputs": [
        {
          "output_type": "stream",
          "text": [
            "_________________________________________________________________\n",
            "Layer (type)                 Output Shape              Param #   \n",
            "=================================================================\n",
            "embedding_1 (Embedding)      (None, 100, 32)           2291584   \n",
            "_________________________________________________________________\n",
            "lstm_1 (LSTM)                (None, 100)               53200     \n",
            "_________________________________________________________________\n",
            "dense_1 (Dense)              (None, 1)                 101       \n",
            "=================================================================\n",
            "Total params: 2,344,885\n",
            "Trainable params: 2,344,885\n",
            "Non-trainable params: 0\n",
            "_________________________________________________________________\n",
            "None\n"
          ],
          "name": "stdout"
        }
      ]
    },
    {
      "metadata": {
        "id": "jNykZn6NFJl5",
        "colab_type": "code",
        "outputId": "2466a50c-ab9c-413d-97ee-9be32abdf1df",
        "colab": {
          "base_uri": "https://localhost:8080/",
          "height": 204
        }
      },
      "cell_type": "code",
      "source": [
        " Lstm_1=model_1.fit(X_train, Y_train, epochs=5, batch_size=128)\n",
        " #Final evaluation of the model\n",
        "scores = model_1.evaluate(X_test, Y_test, verbose=0)\n",
        "print(\"Accuracy: %.2f%%\" % (scores[1]*100))"
      ],
      "execution_count": 0,
      "outputs": [
        {
          "output_type": "stream",
          "text": [
            "Epoch 1/5\n",
            "182068/182068 [==============================] - 709s 4ms/step - loss: 0.2258 - acc: 0.9117\n",
            "Epoch 2/5\n",
            "182068/182068 [==============================] - 708s 4ms/step - loss: 0.1738 - acc: 0.9318\n",
            "Epoch 3/5\n",
            "182068/182068 [==============================] - 702s 4ms/step - loss: 0.1522 - acc: 0.9406\n",
            "Epoch 4/5\n",
            "182068/182068 [==============================] - 725s 4ms/step - loss: 0.1326 - acc: 0.9488\n",
            "Epoch 5/5\n",
            "182068/182068 [==============================] - 727s 4ms/step - loss: 0.1158 - acc: 0.9555\n",
            "Accuracy: 92.17%\n"
          ],
          "name": "stdout"
        }
      ]
    },
    {
      "metadata": {
        "id": "UkyM97zBrlh2",
        "colab_type": "code",
        "outputId": "513cbb1f-70a5-46af-9047-f84c93dc1732",
        "colab": {
          "base_uri": "https://localhost:8080/",
          "height": 289
        }
      },
      "cell_type": "code",
      "source": [
        "# create the model\n",
        "embedding_vector_length = 32\n",
        "model_2 = Sequential()\n",
        "model_2.add(Embedding(len(vocabulary)+1,embedding_vector_length, input_length=max_review_length))\n",
        "model_2.add(LSTM(100,return_sequences=True))\n",
        "model_2.add(LSTM(100))\n",
        "model_2.add(Dense(1, activation='sigmoid'))\n",
        "model_2.compile(loss='binary_crossentropy', optimizer='adam', metrics=['accuracy'])\n",
        "print(model_2.summary())"
      ],
      "execution_count": 0,
      "outputs": [
        {
          "output_type": "stream",
          "text": [
            "_________________________________________________________________\n",
            "Layer (type)                 Output Shape              Param #   \n",
            "=================================================================\n",
            "embedding_2 (Embedding)      (None, 100, 32)           2291584   \n",
            "_________________________________________________________________\n",
            "lstm_2 (LSTM)                (None, 100, 100)          53200     \n",
            "_________________________________________________________________\n",
            "lstm_3 (LSTM)                (None, 100)               80400     \n",
            "_________________________________________________________________\n",
            "dense_2 (Dense)              (None, 1)                 101       \n",
            "=================================================================\n",
            "Total params: 2,425,285\n",
            "Trainable params: 2,425,285\n",
            "Non-trainable params: 0\n",
            "_________________________________________________________________\n",
            "None\n"
          ],
          "name": "stdout"
        }
      ]
    },
    {
      "metadata": {
        "id": "gELrffTQsP9U",
        "colab_type": "code",
        "outputId": "28c20d07-97a2-4af5-9021-22e908ac614a",
        "colab": {
          "base_uri": "https://localhost:8080/",
          "height": 204
        }
      },
      "cell_type": "code",
      "source": [
        " Lstm_2=model_2.fit(X_train, Y_train, epochs=5, batch_size=128)\n",
        " #Final evaluation of the model\n",
        "scores = model_2.evaluate(X_test, Y_test, verbose=0)\n",
        "print(\"Accuracy: %.2f%%\" % (scores[1]*100))"
      ],
      "execution_count": 0,
      "outputs": [
        {
          "output_type": "stream",
          "text": [
            "Epoch 1/5\n",
            "182068/182068 [==============================] - 1505s 8ms/step - loss: 0.2245 - acc: 0.9119\n",
            "Epoch 2/5\n",
            "182068/182068 [==============================] - 1108s 6ms/step - loss: 0.1719 - acc: 0.9330\n",
            "Epoch 3/5\n",
            "182068/182068 [==============================] - 786s 4ms/step - loss: 0.1508 - acc: 0.9417\n",
            "Epoch 4/5\n",
            "182068/182068 [==============================] - 784s 4ms/step - loss: 0.1295 - acc: 0.9505\n",
            "Epoch 5/5\n",
            "182068/182068 [==============================] - 786s 4ms/step - loss: 0.1110 - acc: 0.9584\n",
            "Accuracy: 92.22%\n"
          ],
          "name": "stdout"
        }
      ]
    }
  ]
}